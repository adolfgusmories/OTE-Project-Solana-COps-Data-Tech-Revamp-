{
 "cells": [
  {
   "cell_type": "code",
   "execution_count": 964,
   "metadata": {},
   "outputs": [],
   "source": [
    "# IMPORT LIBRARY\n",
    "\n",
    "import pandas as pd\n",
    "import numpy as np\n",
    "import re\n",
    "import datetime"
   ]
  },
  {
   "cell_type": "markdown",
   "metadata": {},
   "source": [
    "# `Read Excel File`"
   ]
  },
  {
   "cell_type": "code",
   "execution_count": 965,
   "metadata": {},
   "outputs": [],
   "source": [
    "# read the Excel file on the specified sheet\n",
    "df_input = pd.read_excel('CAOT Test Case _ Final.xlsx', sheet_name='Input Data - FBL5N')\n",
    "df_hierarchy = pd.read_excel('CAOT Test Case _ Final.xlsx', sheet_name='Input Data - Cust Hierarchy')\n",
    "df_holiday = pd.read_excel('CAOT Test Case _ Final.xlsx', sheet_name='Input - Holiday')\n",
    "df_report = pd.read_excel('CAOT Test Case _ Final.xlsx', sheet_name='Input - Report Date')"
   ]
  },
  {
   "cell_type": "markdown",
   "metadata": {},
   "source": [
    "# `VLOOKUP`"
   ]
  },
  {
   "cell_type": "code",
   "execution_count": 966,
   "metadata": {},
   "outputs": [
    {
     "data": {
      "text/plain": [
       "Index(['Company Code', 'Account', 'Billing Document', 'Document Number',\n",
       "       'Document type', 'Posting Key', 'Debit/Credit ind', 'Assignment',\n",
       "       'Document Date', 'Special G/L ind.', 'Amount in local currency',\n",
       "       'Local Currency', 'Amount in doc. curr.', 'Document currency',\n",
       "       'Amount in loc.curr.2', 'Local Currency 2', 'G/L Account',\n",
       "       'Posting Date', 'Baseline Payment Dte', 'Entry Date', 'Net due date',\n",
       "       'Year/month', 'Reason code', 'User Name', 'Sales Document', 'Vendor',\n",
       "       'Customer', 'Reference', 'Text', 'Clearing Document', 'Clearing date',\n",
       "       'Arrears after net due date', 'Reference Key 1', 'Reference Key 2'],\n",
       "      dtype='object')"
      ]
     },
     "execution_count": 966,
     "metadata": {},
     "output_type": "execute_result"
    }
   ],
   "source": [
    "df_input.columns"
   ]
  },
  {
   "cell_type": "code",
   "execution_count": 967,
   "metadata": {},
   "outputs": [],
   "source": [
    "# columns name on df_hierarchy\n",
    "list_hierarchy_col = ['Customer Name', 'TFL2', 'Customer Channel', 'SWL2', 'SWL3', 'Banner']\n",
    "\n",
    "# columns name which are insert to df_input\n",
    "list_hierarchy_col_name = ['Customer Name', 'Trade Format Level 2', 'Channel', 'Sales Workforce Lv2', 'Sales Workforce Lv3', 'Banner Name']"
   ]
  },
  {
   "cell_type": "code",
   "execution_count": 968,
   "metadata": {},
   "outputs": [],
   "source": [
    "for col_names in list_hierarchy_col:\n",
    "    # Create list result from merge df_input and df_hierarchy\n",
    "    list_name = [pd.merge(df_input, df_hierarchy, how='left', left_on='Account', right_on = 'Customer')[col_names]]\n",
    "\n",
    "    # Insert list to df_input on specific column's number\n",
    "    df_input.insert(list_hierarchy_col.index(col_names)+2, list_hierarchy_col_name[list_hierarchy_col.index(col_names)], list_name[0])\n",
    "\n",
    "    # Replace if there missing value or not found in df_hierarchy\n",
    "    df_input[list_hierarchy_col_name[list_hierarchy_col.index(col_names)]].fillna('Not Found', inplace=True)\n"
   ]
  },
  {
   "cell_type": "markdown",
   "metadata": {},
   "source": [
    "# `LOGIC`"
   ]
  },
  {
   "cell_type": "markdown",
   "metadata": {},
   "source": [
    "## `Exclude Column`"
   ]
  },
  {
   "cell_type": "code",
   "execution_count": 969,
   "metadata": {},
   "outputs": [],
   "source": [
    "list_exlude = []\n",
    "for row in range(len(df_input)):\n",
    "\n",
    "    # Statement 1\n",
    "    if df_input.loc[row,'Reference Key 1'] in (['CITDUMMYUFS', 'CITDUMMY UFS', 'CITDUMMY', 'CITDUMMY-NKW']):\n",
    "        list_exlude.append(df_input.loc[row,'Reference Key 1'])\n",
    "\n",
    "    # Statement 2\n",
    "    elif df_input.loc[row,'Amount in local currency'] > 0:\n",
    "        list_exlude.append('Positive Value')\n",
    "\n",
    "    # Statement 3\n",
    "    elif (df_input.loc[row,'Local Currency'] != 'IDR') | (df_input.loc[row,'Document currency'] != 'IDR'):\n",
    "        list_exlude.append('Not IDR')\n",
    "\n",
    "    # Statement 4\n",
    "    elif str(df_input.loc[row, 'Document Number']).startswith('58'):\n",
    "        list_exlude.append('Reversal document')\n",
    "\n",
    "    # Statement 5\n",
    "    elif (str(df_input['Reference'].iloc[row]).__contains__('bnppay')) | (str(df_input['Text'].iloc[row]).__contains__('bnppay')):\n",
    "        list_exlude.append('BNNPAY')\n",
    "    else:\n",
    "        list_exlude.append(np.nan)\n",
    "\n",
    "df_input['Exclude'] = list_exlude"
   ]
  },
  {
   "cell_type": "code",
   "execution_count": 970,
   "metadata": {},
   "outputs": [
    {
     "data": {
      "text/plain": [
       "Positive Value       1278\n",
       "CITDUMMY              176\n",
       "CITDUMMYUFS           105\n",
       "Not IDR                 8\n",
       "CITDUMMY-NKW            7\n",
       "BNNPAY                  2\n",
       "CITDUMMY UFS            2\n",
       "Reversal document       2\n",
       "Name: Exclude, dtype: int64"
      ]
     },
     "execution_count": 970,
     "metadata": {},
     "output_type": "execute_result"
    }
   ],
   "source": [
    "# Check value \n",
    "df_input['Exclude'].value_counts()"
   ]
  },
  {
   "cell_type": "markdown",
   "metadata": {},
   "source": [
    "## `Days Column`"
   ]
  },
  {
   "cell_type": "code",
   "execution_count": 971,
   "metadata": {},
   "outputs": [
    {
     "data": {
      "text/plain": [
       "datetime.date(2023, 2, 7)"
      ]
     },
     "execution_count": 971,
     "metadata": {},
     "output_type": "execute_result"
    }
   ],
   "source": [
    "# Create variable represent report date from 'Input - Report Date' Sheet\n",
    "report_date = df_report.columns[0].date()\n",
    "report_date"
   ]
  },
  {
   "cell_type": "code",
   "execution_count": 972,
   "metadata": {},
   "outputs": [
    {
     "data": {
      "text/plain": [
       "[datetime.date(2023, 1, 1),\n",
       " datetime.date(2023, 2, 2),\n",
       " datetime.date(2023, 2, 28),\n",
       " datetime.date(2023, 3, 3),\n",
       " datetime.date(2023, 4, 15),\n",
       " datetime.date(2023, 5, 1),\n",
       " datetime.date(2023, 5, 2),\n",
       " datetime.date(2023, 5, 3),\n",
       " datetime.date(2023, 5, 16),\n",
       " datetime.date(2023, 5, 26),\n",
       " datetime.date(2023, 6, 1),\n",
       " datetime.date(2023, 7, 9),\n",
       " datetime.date(2023, 7, 30),\n",
       " datetime.date(2023, 8, 17),\n",
       " datetime.date(2023, 10, 8),\n",
       " datetime.date(2023, 12, 25)]"
      ]
     },
     "execution_count": 972,
     "metadata": {},
     "output_type": "execute_result"
    }
   ],
   "source": [
    "# Create variable contains holiday from 'Input-Holiday' Sheet\n",
    "holidays = df_holiday['Holiday'].dt.date.to_list()\n",
    "holidays"
   ]
  },
  {
   "cell_type": "code",
   "execution_count": 973,
   "metadata": {},
   "outputs": [],
   "source": [
    "# Create dummy variable which represent changing missing value in 'Clearing Document' with 'none'\n",
    "column_clear = df_input['Clearing Document'].fillna('none')"
   ]
  },
  {
   "cell_type": "code",
   "execution_count": 974,
   "metadata": {},
   "outputs": [],
   "source": [
    "list_days = []\n",
    "\n",
    "# Create workdays format, 1 equals to work, 0 equals to holiday(weekend)\n",
    "workformat = [1,1,1,1,1,1,0]\n",
    "\n",
    "\n",
    "for row in range(len(df_input)):\n",
    "\n",
    "    # Statement if 'Clearing Date' is missing value\n",
    "    if column_clear.iloc[row] == 'none':\n",
    "        \n",
    "        # counting workdays\n",
    "        day_count = (np.busday_count(\n",
    "            begindates = df_input[['Document Date']].iloc[row][0].date(), \n",
    "            enddates =report_date, \n",
    "            weekmask=workformat, \n",
    "            holidays= holidays))-1\n",
    "\n",
    "        # Statement if day_count below than 0    \n",
    "        if day_count < 0:\n",
    "            list_days.append(0)\n",
    "        else :\n",
    "            list_days.append(day_count)\n",
    "\n",
    "    # Statement if 'Clearing Date' has value\n",
    "    else:\n",
    "\n",
    "        # counting workdays\n",
    "        day_count = (np.busday_count(\n",
    "            begindates =df_input[['Document Date']].iloc[row][0].date(),\n",
    "            enddates = df_input[['Clearing date']].iloc[row][0].date(), \n",
    "            weekmask=workformat, \n",
    "            holidays= holidays))-1\n",
    "\n",
    "        # Statement if day_count below than 0    \n",
    "        if day_count  < 0:\n",
    "            list_days.append(0)\n",
    "\n",
    "        else:\n",
    "            list_days.append(day_count)"
   ]
  },
  {
   "cell_type": "code",
   "execution_count": 975,
   "metadata": {},
   "outputs": [],
   "source": [
    "# Adding new column contains days\n",
    "df_input['Days'] = list_days"
   ]
  },
  {
   "cell_type": "code",
   "execution_count": 976,
   "metadata": {},
   "outputs": [
    {
     "data": {
      "text/plain": [
       "0    2281\n",
       "2     248\n",
       "3     211\n",
       "1      73\n",
       "Name: Days, dtype: int64"
      ]
     },
     "execution_count": 976,
     "metadata": {},
     "output_type": "execute_result"
    }
   ],
   "source": [
    "# Check value \n",
    "df_input['Days'].value_counts()"
   ]
  },
  {
   "cell_type": "markdown",
   "metadata": {},
   "source": [
    "## `Ageing Column`"
   ]
  },
  {
   "cell_type": "code",
   "execution_count": 977,
   "metadata": {},
   "outputs": [],
   "source": [
    "list_ageing = []\n",
    "for i in range(len(df_input)):\n",
    "\n",
    "    # Statement based on number of Days column\n",
    "    # Because there's no value < 0 (negative), then conditional statement \"Days <= -1\" will not incluiding\n",
    "    if df_input['Days'].iloc[i] < 2:\n",
    "        ageing = '<2'\n",
    "    elif df_input['Days'].iloc[i] == 2:\n",
    "        ageing = '=2'\n",
    "    else:\n",
    "        ageing = '>2'\n",
    "\n",
    "    list_ageing.append(ageing)\n",
    "    \n",
    "    \n"
   ]
  },
  {
   "cell_type": "code",
   "execution_count": 978,
   "metadata": {},
   "outputs": [
    {
     "data": {
      "text/plain": [
       "<2    2354\n",
       "=2     248\n",
       ">2     211\n",
       "Name: 0, dtype: int64"
      ]
     },
     "execution_count": 978,
     "metadata": {},
     "output_type": "execute_result"
    }
   ],
   "source": [
    "# Check value\n",
    "pd.DataFrame(list_ageing)[0].value_counts()"
   ]
  },
  {
   "cell_type": "code",
   "execution_count": 979,
   "metadata": {},
   "outputs": [],
   "source": [
    "# Adding new column which contains list_ageing\n",
    "df_input['Ageing'] = list_ageing"
   ]
  },
  {
   "cell_type": "markdown",
   "metadata": {},
   "source": [
    "## `Clearing Status`"
   ]
  },
  {
   "cell_type": "code",
   "execution_count": 980,
   "metadata": {},
   "outputs": [],
   "source": [
    "list_status = []\n",
    "for row in range(len(df_input)):\n",
    "\n",
    "    # Statement based on 'Clearing Document' --> missing value has replaced with 'none' in column_clear\n",
    "    if column_clear.iloc[row] == 'none':\n",
    "        list_status.append('Open')\n",
    "    else:\n",
    "        list_status.append('Cleared')"
   ]
  },
  {
   "cell_type": "code",
   "execution_count": 981,
   "metadata": {},
   "outputs": [
    {
     "data": {
      "text/plain": [
       "Cleared    2285\n",
       "Open        528\n",
       "Name: 0, dtype: int64"
      ]
     },
     "execution_count": 981,
     "metadata": {},
     "output_type": "execute_result"
    }
   ],
   "source": [
    "# Check value\n",
    "pd.DataFrame(list_status)[0].value_counts()"
   ]
  },
  {
   "cell_type": "code",
   "execution_count": 982,
   "metadata": {},
   "outputs": [],
   "source": [
    "# Adding new column contain list_status\n",
    "df_input['Clearing Status'] =list_status"
   ]
  },
  {
   "cell_type": "markdown",
   "metadata": {},
   "source": [
    "# `GROUP OUTPUT`"
   ]
  },
  {
   "cell_type": "markdown",
   "metadata": {},
   "source": [
    "## `Exclude field`"
   ]
  },
  {
   "cell_type": "code",
   "execution_count": 983,
   "metadata": {},
   "outputs": [
    {
     "data": {
      "text/html": [
       "<div>\n",
       "<style scoped>\n",
       "    .dataframe tbody tr th:only-of-type {\n",
       "        vertical-align: middle;\n",
       "    }\n",
       "\n",
       "    .dataframe tbody tr th {\n",
       "        vertical-align: top;\n",
       "    }\n",
       "\n",
       "    .dataframe thead th {\n",
       "        text-align: right;\n",
       "    }\n",
       "</style>\n",
       "<table border=\"1\" class=\"dataframe\">\n",
       "  <thead>\n",
       "    <tr style=\"text-align: right;\">\n",
       "      <th></th>\n",
       "      <th>Row Labels</th>\n",
       "      <th>Count of Billing Document</th>\n",
       "    </tr>\n",
       "  </thead>\n",
       "  <tbody>\n",
       "    <tr>\n",
       "      <th>0</th>\n",
       "      <td>Positive Value</td>\n",
       "      <td>1278</td>\n",
       "    </tr>\n",
       "    <tr>\n",
       "      <th>1</th>\n",
       "      <td>(blanks)</td>\n",
       "      <td>1233</td>\n",
       "    </tr>\n",
       "    <tr>\n",
       "      <th>2</th>\n",
       "      <td>CITDUMMY</td>\n",
       "      <td>176</td>\n",
       "    </tr>\n",
       "    <tr>\n",
       "      <th>3</th>\n",
       "      <td>CITDUMMYUFS</td>\n",
       "      <td>105</td>\n",
       "    </tr>\n",
       "    <tr>\n",
       "      <th>4</th>\n",
       "      <td>Not IDR</td>\n",
       "      <td>8</td>\n",
       "    </tr>\n",
       "    <tr>\n",
       "      <th>5</th>\n",
       "      <td>CITDUMMY-NKW</td>\n",
       "      <td>7</td>\n",
       "    </tr>\n",
       "    <tr>\n",
       "      <th>6</th>\n",
       "      <td>BNNPAY</td>\n",
       "      <td>2</td>\n",
       "    </tr>\n",
       "    <tr>\n",
       "      <th>7</th>\n",
       "      <td>CITDUMMY UFS</td>\n",
       "      <td>2</td>\n",
       "    </tr>\n",
       "    <tr>\n",
       "      <th>8</th>\n",
       "      <td>Reversal document</td>\n",
       "      <td>2</td>\n",
       "    </tr>\n",
       "  </tbody>\n",
       "</table>\n",
       "</div>"
      ],
      "text/plain": [
       "          Row Labels  Count of Billing Document\n",
       "0     Positive Value                       1278\n",
       "1           (blanks)                       1233\n",
       "2           CITDUMMY                        176\n",
       "3        CITDUMMYUFS                        105\n",
       "4            Not IDR                          8\n",
       "5       CITDUMMY-NKW                          7\n",
       "6             BNNPAY                          2\n",
       "7       CITDUMMY UFS                          2\n",
       "8  Reversal document                          2"
      ]
     },
     "execution_count": 983,
     "metadata": {},
     "output_type": "execute_result"
    }
   ],
   "source": [
    "# Value counts including NaN and convert into DataFrame\n",
    "exclude = pd.DataFrame(df_input['Exclude'].value_counts(dropna=False)).reset_index()\\\n",
    "    .rename(columns={'index': 'Row Labels', 'Exclude': 'Count of Billing Document'})\n",
    "    \n",
    "# Changing NaN value with '(blanks)' as written in 'Output' Sheet\n",
    "exclude['Row Labels'] = exclude['Row Labels'].fillna('(blanks)')\n",
    "exclude"
   ]
  },
  {
   "cell_type": "code",
   "execution_count": 984,
   "metadata": {},
   "outputs": [],
   "source": [
    "# Create function to add total of numerical data type on last row index\n",
    "def grand_total(dataframe):\n",
    "    \n",
    "    # sum of numerical data type\n",
    "    dataframe.loc['Grand Total'] = dataframe.select_dtypes(include=['number']).sum()\n",
    "\n",
    "    # Replace NaN from object data type to 'Grand Total'\n",
    "    dataframe['Row Labels'] = dataframe['Row Labels'].fillna('Grand Total')\n",
    "\n",
    "    dataframe_result = dataframe.reset_index(drop='True')\n",
    "    \n",
    "    return dataframe_result"
   ]
  },
  {
   "cell_type": "code",
   "execution_count": 985,
   "metadata": {},
   "outputs": [
    {
     "data": {
      "text/html": [
       "<div>\n",
       "<style scoped>\n",
       "    .dataframe tbody tr th:only-of-type {\n",
       "        vertical-align: middle;\n",
       "    }\n",
       "\n",
       "    .dataframe tbody tr th {\n",
       "        vertical-align: top;\n",
       "    }\n",
       "\n",
       "    .dataframe thead th {\n",
       "        text-align: right;\n",
       "    }\n",
       "</style>\n",
       "<table border=\"1\" class=\"dataframe\">\n",
       "  <thead>\n",
       "    <tr style=\"text-align: right;\">\n",
       "      <th></th>\n",
       "      <th>Row Labels</th>\n",
       "      <th>Count of Billing Document</th>\n",
       "    </tr>\n",
       "  </thead>\n",
       "  <tbody>\n",
       "    <tr>\n",
       "      <th>0</th>\n",
       "      <td>Positive Value</td>\n",
       "      <td>1278.0</td>\n",
       "    </tr>\n",
       "    <tr>\n",
       "      <th>1</th>\n",
       "      <td>(blanks)</td>\n",
       "      <td>1233.0</td>\n",
       "    </tr>\n",
       "    <tr>\n",
       "      <th>2</th>\n",
       "      <td>CITDUMMY</td>\n",
       "      <td>176.0</td>\n",
       "    </tr>\n",
       "    <tr>\n",
       "      <th>3</th>\n",
       "      <td>CITDUMMYUFS</td>\n",
       "      <td>105.0</td>\n",
       "    </tr>\n",
       "    <tr>\n",
       "      <th>4</th>\n",
       "      <td>Not IDR</td>\n",
       "      <td>8.0</td>\n",
       "    </tr>\n",
       "    <tr>\n",
       "      <th>5</th>\n",
       "      <td>CITDUMMY-NKW</td>\n",
       "      <td>7.0</td>\n",
       "    </tr>\n",
       "    <tr>\n",
       "      <th>6</th>\n",
       "      <td>BNNPAY</td>\n",
       "      <td>2.0</td>\n",
       "    </tr>\n",
       "    <tr>\n",
       "      <th>7</th>\n",
       "      <td>CITDUMMY UFS</td>\n",
       "      <td>2.0</td>\n",
       "    </tr>\n",
       "    <tr>\n",
       "      <th>8</th>\n",
       "      <td>Reversal document</td>\n",
       "      <td>2.0</td>\n",
       "    </tr>\n",
       "    <tr>\n",
       "      <th>9</th>\n",
       "      <td>Grand Total</td>\n",
       "      <td>2813.0</td>\n",
       "    </tr>\n",
       "  </tbody>\n",
       "</table>\n",
       "</div>"
      ],
      "text/plain": [
       "          Row Labels  Count of Billing Document\n",
       "0     Positive Value                     1278.0\n",
       "1           (blanks)                     1233.0\n",
       "2           CITDUMMY                      176.0\n",
       "3        CITDUMMYUFS                      105.0\n",
       "4            Not IDR                        8.0\n",
       "5       CITDUMMY-NKW                        7.0\n",
       "6             BNNPAY                        2.0\n",
       "7       CITDUMMY UFS                        2.0\n",
       "8  Reversal document                        2.0\n",
       "9        Grand Total                     2813.0"
      ]
     },
     "execution_count": 985,
     "metadata": {},
     "output_type": "execute_result"
    }
   ],
   "source": [
    "exclude_final = grand_total(exclude)\n",
    "exclude_final"
   ]
  },
  {
   "cell_type": "markdown",
   "metadata": {},
   "source": [
    "## `Channel field`"
   ]
  },
  {
   "cell_type": "code",
   "execution_count": 986,
   "metadata": {},
   "outputs": [
    {
     "data": {
      "text/html": [
       "<div>\n",
       "<style scoped>\n",
       "    .dataframe tbody tr th:only-of-type {\n",
       "        vertical-align: middle;\n",
       "    }\n",
       "\n",
       "    .dataframe tbody tr th {\n",
       "        vertical-align: top;\n",
       "    }\n",
       "\n",
       "    .dataframe thead th {\n",
       "        text-align: right;\n",
       "    }\n",
       "</style>\n",
       "<table border=\"1\" class=\"dataframe\">\n",
       "  <thead>\n",
       "    <tr style=\"text-align: right;\">\n",
       "      <th></th>\n",
       "      <th>Row Labels</th>\n",
       "      <th>Count of Billing Document</th>\n",
       "    </tr>\n",
       "  </thead>\n",
       "  <tbody>\n",
       "    <tr>\n",
       "      <th>0</th>\n",
       "      <td>DT</td>\n",
       "      <td>536</td>\n",
       "    </tr>\n",
       "    <tr>\n",
       "      <th>1</th>\n",
       "      <td>MT</td>\n",
       "      <td>324</td>\n",
       "    </tr>\n",
       "    <tr>\n",
       "      <th>2</th>\n",
       "      <td>IC</td>\n",
       "      <td>277</td>\n",
       "    </tr>\n",
       "    <tr>\n",
       "      <th>3</th>\n",
       "      <td>UFS</td>\n",
       "      <td>41</td>\n",
       "    </tr>\n",
       "    <tr>\n",
       "      <th>4</th>\n",
       "      <td>U-PRO</td>\n",
       "      <td>9</td>\n",
       "    </tr>\n",
       "    <tr>\n",
       "      <th>5</th>\n",
       "      <td>Others</td>\n",
       "      <td>1</td>\n",
       "    </tr>\n",
       "  </tbody>\n",
       "</table>\n",
       "</div>"
      ],
      "text/plain": [
       "  Row Labels  Count of Billing Document\n",
       "0         DT                        536\n",
       "1         MT                        324\n",
       "2         IC                        277\n",
       "3        UFS                         41\n",
       "4      U-PRO                          9\n",
       "5     Others                          1"
      ]
     },
     "execution_count": 986,
     "metadata": {},
     "output_type": "execute_result"
    }
   ],
   "source": [
    "channel = pd.DataFrame(df_input[(df_input['Exclude'].isna()==True) & (df_input['Ageing'].isin(['<2', '=2']))][['Channel']]\\\n",
    "    .value_counts()).reset_index().rename(columns={'Channel':'Row Labels', 0:'Count of Billing Document'})\n",
    "channel"
   ]
  },
  {
   "cell_type": "code",
   "execution_count": 987,
   "metadata": {},
   "outputs": [
    {
     "data": {
      "text/html": [
       "<div>\n",
       "<style scoped>\n",
       "    .dataframe tbody tr th:only-of-type {\n",
       "        vertical-align: middle;\n",
       "    }\n",
       "\n",
       "    .dataframe tbody tr th {\n",
       "        vertical-align: top;\n",
       "    }\n",
       "\n",
       "    .dataframe thead th {\n",
       "        text-align: right;\n",
       "    }\n",
       "</style>\n",
       "<table border=\"1\" class=\"dataframe\">\n",
       "  <thead>\n",
       "    <tr style=\"text-align: right;\">\n",
       "      <th></th>\n",
       "      <th>Row Labels</th>\n",
       "      <th>Count of Billing Document</th>\n",
       "    </tr>\n",
       "  </thead>\n",
       "  <tbody>\n",
       "    <tr>\n",
       "      <th>0</th>\n",
       "      <td>DT</td>\n",
       "      <td>536.0</td>\n",
       "    </tr>\n",
       "    <tr>\n",
       "      <th>1</th>\n",
       "      <td>MT</td>\n",
       "      <td>324.0</td>\n",
       "    </tr>\n",
       "    <tr>\n",
       "      <th>2</th>\n",
       "      <td>IC</td>\n",
       "      <td>277.0</td>\n",
       "    </tr>\n",
       "    <tr>\n",
       "      <th>3</th>\n",
       "      <td>UFS</td>\n",
       "      <td>41.0</td>\n",
       "    </tr>\n",
       "    <tr>\n",
       "      <th>4</th>\n",
       "      <td>U-PRO</td>\n",
       "      <td>9.0</td>\n",
       "    </tr>\n",
       "    <tr>\n",
       "      <th>5</th>\n",
       "      <td>Others</td>\n",
       "      <td>1.0</td>\n",
       "    </tr>\n",
       "    <tr>\n",
       "      <th>6</th>\n",
       "      <td>Grand Total</td>\n",
       "      <td>1188.0</td>\n",
       "    </tr>\n",
       "  </tbody>\n",
       "</table>\n",
       "</div>"
      ],
      "text/plain": [
       "    Row Labels  Count of Billing Document\n",
       "0           DT                      536.0\n",
       "1           MT                      324.0\n",
       "2           IC                      277.0\n",
       "3          UFS                       41.0\n",
       "4        U-PRO                        9.0\n",
       "5       Others                        1.0\n",
       "6  Grand Total                     1188.0"
      ]
     },
     "execution_count": 987,
     "metadata": {},
     "output_type": "execute_result"
    }
   ],
   "source": [
    "channel_final = grand_total(channel)\n",
    "channel_final"
   ]
  },
  {
   "cell_type": "markdown",
   "metadata": {},
   "source": [
    "# `Export to Excel file`"
   ]
  },
  {
   "cell_type": "code",
   "execution_count": 988,
   "metadata": {},
   "outputs": [],
   "source": [
    "import xlsxwriter"
   ]
  },
  {
   "cell_type": "code",
   "execution_count": 989,
   "metadata": {},
   "outputs": [],
   "source": [
    "writer = pd.ExcelWriter('CAOT Test_OUTPUT.xlsx', engine='xlsxwriter')\n",
    "\n",
    "workbook  = writer.book\n",
    "\n",
    "# 'Output Sheet'\n",
    "df_input.to_excel(writer, sheet_name='Output', index=False, startrow=0, startcol=0)\n",
    "\n",
    "output_sheet = writer.sheets['Output']\n",
    "\n",
    "num_rows, num_cols = df_input.shape\n",
    "output_sheet.autofilter(0, 0, num_rows, num_cols-1)\n",
    "\n",
    "\n",
    "# 'Group by Output' sheet\n",
    "exclude_final.to_excel(writer, sheet_name='Group by Output', index=False, startrow=4, startcol=0)\n",
    "channel_final.to_excel(writer, sheet_name='Group by Output', index=False, startrow=5, startcol=4)\n",
    "\n",
    "# write the first dataframe to the worksheet\n",
    "group_sheet = writer.sheets['Group by Output']\n",
    "group_sheet.write(0, 0, 'By Exclude field- Count of row')\n",
    "group_sheet.write(0, 4, 'By Channel- Count of Days ≤ 2 days')\n",
    "\n",
    "filter_1 = 'A5:A5'\n",
    "group_sheet.autofilter(filter_1)\n",
    "\n",
    "filter_2 = 'E6:E6'\n",
    "group_sheet.autofilter(filter_2)\n",
    "\n",
    "\n",
    "# save the Excel file\n",
    "writer.save()"
   ]
  }
 ],
 "metadata": {
  "kernelspec": {
   "display_name": "Python 3",
   "language": "python",
   "name": "python3"
  },
  "language_info": {
   "codemirror_mode": {
    "name": "ipython",
    "version": 3
   },
   "file_extension": ".py",
   "mimetype": "text/x-python",
   "name": "python",
   "nbconvert_exporter": "python",
   "pygments_lexer": "ipython3",
   "version": "3.7.9"
  },
  "orig_nbformat": 4,
  "vscode": {
   "interpreter": {
    "hash": "751832247a6d7502c965897e290a90ee100c5011f4bc7658ebd561f5137e5eb0"
   }
  }
 },
 "nbformat": 4,
 "nbformat_minor": 2
}
